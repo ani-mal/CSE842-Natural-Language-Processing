{
 "nbformat": 4,
 "nbformat_minor": 2,
 "metadata": {
  "language_info": {
   "name": "python",
   "codemirror_mode": {
    "name": "ipython",
    "version": 3
   }
  },
  "orig_nbformat": 2,
  "file_extension": ".py",
  "mimetype": "text/x-python",
  "name": "python",
  "npconvert_exporter": "python",
  "pygments_lexer": "ipython3",
  "version": 3
 },
 "cells": [
  {
   "cell_type": "code",
   "execution_count": 1,
   "metadata": {},
   "outputs": [
    {
     "name": "stderr",
     "output_type": "stream",
     "text": "[nltk_data] Downloading package brown to\n[nltk_data]     C:\\Users\\a.pawlickamaule\\AppData\\Roaming\\nltk_data...\n[nltk_data]   Package brown is already up-to-date!\n"
    }
   ],
   "source": [
    "import nltk\n",
    "nltk.download('brown')\n",
    "\n",
    "from nltk.corpus import brown\n"
   ]
  },
  {
   "cell_type": "code",
   "execution_count": 2,
   "metadata": {},
   "outputs": [
    {
     "name": "stdout",
     "output_type": "stream",
     "text": "[('The', 'DET'), ('Fulton', 'NOUN'), ...]\n"
    }
   ],
   "source": [
    "\n",
    "sequence = brown.tagged_words(categories='news', tagset='universal')\n",
    "\n",
    "print(sequence)"
   ]
  },
  {
   "cell_type": "code",
   "execution_count": 3,
   "metadata": {},
   "outputs": [
    {
     "name": "stdout",
     "output_type": "stream",
     "text": "100554\n"
    }
   ],
   "source": [
    "print( len(sequence))"
   ]
  },
  {
   "cell_type": "code",
   "execution_count": 4,
   "metadata": {},
   "outputs": [
    {
     "name": "stdout",
     "output_type": "stream",
     "text": "['DET', 'NOUN', 'ADJ', 'VERB', 'ADP', '.', 'ADV', 'CONJ', 'PRT', 'PRON', 'NUM', 'X']\n"
    }
   ],
   "source": [
    "tags = []\n",
    "for item in sequence:\n",
    "    if item[1] not in tags:\n",
    "        tags.append(item[1])\n",
    "\n",
    "    if len(tags) == 12 :\n",
    "        break\n",
    "\n",
    "print(tags)"
   ]
  },
  {
   "cell_type": "code",
   "execution_count": 5,
   "metadata": {},
   "outputs": [
    {
     "data": {
      "text/html": "<div>\n<style scoped>\n    .dataframe tbody tr th:only-of-type {\n        vertical-align: middle;\n    }\n\n    .dataframe tbody tr th {\n        vertical-align: top;\n    }\n\n    .dataframe thead th {\n        text-align: right;\n    }\n</style>\n<table border=\"1\" class=\"dataframe\">\n  <thead>\n    <tr style=\"text-align: right;\">\n      <th></th>\n      <th>DET</th>\n      <th>NOUN</th>\n      <th>ADJ</th>\n      <th>VERB</th>\n      <th>ADP</th>\n      <th>.</th>\n      <th>ADV</th>\n      <th>CONJ</th>\n      <th>PRT</th>\n      <th>PRON</th>\n      <th>NUM</th>\n      <th>X</th>\n    </tr>\n  </thead>\n  <tbody>\n    <tr>\n      <th>DET</th>\n      <td>0.0</td>\n      <td>0.0</td>\n      <td>0.0</td>\n      <td>0.0</td>\n      <td>0.0</td>\n      <td>0.0</td>\n      <td>0.0</td>\n      <td>0.0</td>\n      <td>0.0</td>\n      <td>0.0</td>\n      <td>0.0</td>\n      <td>0.0</td>\n    </tr>\n    <tr>\n      <th>NOUN</th>\n      <td>0.0</td>\n      <td>0.0</td>\n      <td>0.0</td>\n      <td>0.0</td>\n      <td>0.0</td>\n      <td>0.0</td>\n      <td>0.0</td>\n      <td>0.0</td>\n      <td>0.0</td>\n      <td>0.0</td>\n      <td>0.0</td>\n      <td>0.0</td>\n    </tr>\n    <tr>\n      <th>ADJ</th>\n      <td>0.0</td>\n      <td>0.0</td>\n      <td>0.0</td>\n      <td>0.0</td>\n      <td>0.0</td>\n      <td>0.0</td>\n      <td>0.0</td>\n      <td>0.0</td>\n      <td>0.0</td>\n      <td>0.0</td>\n      <td>0.0</td>\n      <td>0.0</td>\n    </tr>\n    <tr>\n      <th>VERB</th>\n      <td>0.0</td>\n      <td>0.0</td>\n      <td>0.0</td>\n      <td>0.0</td>\n      <td>0.0</td>\n      <td>0.0</td>\n      <td>0.0</td>\n      <td>0.0</td>\n      <td>0.0</td>\n      <td>0.0</td>\n      <td>0.0</td>\n      <td>0.0</td>\n    </tr>\n    <tr>\n      <th>ADP</th>\n      <td>0.0</td>\n      <td>0.0</td>\n      <td>0.0</td>\n      <td>0.0</td>\n      <td>0.0</td>\n      <td>0.0</td>\n      <td>0.0</td>\n      <td>0.0</td>\n      <td>0.0</td>\n      <td>0.0</td>\n      <td>0.0</td>\n      <td>0.0</td>\n    </tr>\n    <tr>\n      <th>.</th>\n      <td>0.0</td>\n      <td>0.0</td>\n      <td>0.0</td>\n      <td>0.0</td>\n      <td>0.0</td>\n      <td>0.0</td>\n      <td>0.0</td>\n      <td>0.0</td>\n      <td>0.0</td>\n      <td>0.0</td>\n      <td>0.0</td>\n      <td>0.0</td>\n    </tr>\n    <tr>\n      <th>ADV</th>\n      <td>0.0</td>\n      <td>0.0</td>\n      <td>0.0</td>\n      <td>0.0</td>\n      <td>0.0</td>\n      <td>0.0</td>\n      <td>0.0</td>\n      <td>0.0</td>\n      <td>0.0</td>\n      <td>0.0</td>\n      <td>0.0</td>\n      <td>0.0</td>\n    </tr>\n    <tr>\n      <th>CONJ</th>\n      <td>0.0</td>\n      <td>0.0</td>\n      <td>0.0</td>\n      <td>0.0</td>\n      <td>0.0</td>\n      <td>0.0</td>\n      <td>0.0</td>\n      <td>0.0</td>\n      <td>0.0</td>\n      <td>0.0</td>\n      <td>0.0</td>\n      <td>0.0</td>\n    </tr>\n    <tr>\n      <th>PRT</th>\n      <td>0.0</td>\n      <td>0.0</td>\n      <td>0.0</td>\n      <td>0.0</td>\n      <td>0.0</td>\n      <td>0.0</td>\n      <td>0.0</td>\n      <td>0.0</td>\n      <td>0.0</td>\n      <td>0.0</td>\n      <td>0.0</td>\n      <td>0.0</td>\n    </tr>\n    <tr>\n      <th>PRON</th>\n      <td>0.0</td>\n      <td>0.0</td>\n      <td>0.0</td>\n      <td>0.0</td>\n      <td>0.0</td>\n      <td>0.0</td>\n      <td>0.0</td>\n      <td>0.0</td>\n      <td>0.0</td>\n      <td>0.0</td>\n      <td>0.0</td>\n      <td>0.0</td>\n    </tr>\n    <tr>\n      <th>NUM</th>\n      <td>0.0</td>\n      <td>0.0</td>\n      <td>0.0</td>\n      <td>0.0</td>\n      <td>0.0</td>\n      <td>0.0</td>\n      <td>0.0</td>\n      <td>0.0</td>\n      <td>0.0</td>\n      <td>0.0</td>\n      <td>0.0</td>\n      <td>0.0</td>\n    </tr>\n    <tr>\n      <th>X</th>\n      <td>0.0</td>\n      <td>0.0</td>\n      <td>0.0</td>\n      <td>0.0</td>\n      <td>0.0</td>\n      <td>0.0</td>\n      <td>0.0</td>\n      <td>0.0</td>\n      <td>0.0</td>\n      <td>0.0</td>\n      <td>0.0</td>\n      <td>0.0</td>\n    </tr>\n  </tbody>\n</table>\n</div>",
      "text/plain": "      DET  NOUN  ADJ  VERB  ADP    .  ADV  CONJ  PRT  PRON  NUM    X\nDET   0.0   0.0  0.0   0.0  0.0  0.0  0.0   0.0  0.0   0.0  0.0  0.0\nNOUN  0.0   0.0  0.0   0.0  0.0  0.0  0.0   0.0  0.0   0.0  0.0  0.0\nADJ   0.0   0.0  0.0   0.0  0.0  0.0  0.0   0.0  0.0   0.0  0.0  0.0\nVERB  0.0   0.0  0.0   0.0  0.0  0.0  0.0   0.0  0.0   0.0  0.0  0.0\nADP   0.0   0.0  0.0   0.0  0.0  0.0  0.0   0.0  0.0   0.0  0.0  0.0\n.     0.0   0.0  0.0   0.0  0.0  0.0  0.0   0.0  0.0   0.0  0.0  0.0\nADV   0.0   0.0  0.0   0.0  0.0  0.0  0.0   0.0  0.0   0.0  0.0  0.0\nCONJ  0.0   0.0  0.0   0.0  0.0  0.0  0.0   0.0  0.0   0.0  0.0  0.0\nPRT   0.0   0.0  0.0   0.0  0.0  0.0  0.0   0.0  0.0   0.0  0.0  0.0\nPRON  0.0   0.0  0.0   0.0  0.0  0.0  0.0   0.0  0.0   0.0  0.0  0.0\nNUM   0.0   0.0  0.0   0.0  0.0  0.0  0.0   0.0  0.0   0.0  0.0  0.0\nX     0.0   0.0  0.0   0.0  0.0  0.0  0.0   0.0  0.0   0.0  0.0  0.0"
     },
     "execution_count": 5,
     "metadata": {},
     "output_type": "execute_result"
    }
   ],
   "source": [
    "import pandas as pd\n",
    "import numpy as np\n",
    "trans = pd.DataFrame(np.zeros(shape=(12,12)), columns=tags, index=tags)\n",
    "trans"
   ]
  },
  {
   "cell_type": "code",
   "execution_count": 11,
   "metadata": {},
   "outputs": [
    {
     "name": "stdout",
     "output_type": "stream",
     "text": "0.23440643863179075\n"
    }
   ],
   "source": [
    "def get_mle( tag, next_tag, sequence ):\n",
    "    count = 0\n",
    "    tag_count = 0 \n",
    "    for i, pair in enumerate(sequence):\n",
    "        if pair[1] == tag:\n",
    "            tag_count += 1 \n",
    "            if i+1 < len(sequence): \n",
    "                if sequence[i+1][1] == next_tag:\n",
    "                    count += 1\n",
    "\n",
    "    return float(count/tag_count)\n",
    "\n",
    "mle = get_mle('.', 'NOUN', sequence )\n",
    "print(mle)"
   ]
  },
  {
   "cell_type": "code",
   "execution_count": 12,
   "metadata": {},
   "outputs": [],
   "source": [
    "for tag in tags:\n",
    "    for next_tag in tags:\n",
    "       trans[tag][next_tag] = get_mle( tag, next_tag, sequence)\n",
    "       "
   ]
  },
  {
   "cell_type": "code",
   "execution_count": 13,
   "metadata": {},
   "outputs": [
    {
     "data": {
      "text/html": "<div>\n<style scoped>\n    .dataframe tbody tr th:only-of-type {\n        vertical-align: middle;\n    }\n\n    .dataframe tbody tr th {\n        vertical-align: top;\n    }\n\n    .dataframe thead th {\n        text-align: right;\n    }\n</style>\n<table border=\"1\" class=\"dataframe\">\n  <thead>\n    <tr style=\"text-align: right;\">\n      <th></th>\n      <th>DET</th>\n      <th>NOUN</th>\n      <th>ADJ</th>\n      <th>VERB</th>\n      <th>ADP</th>\n      <th>.</th>\n      <th>ADV</th>\n      <th>CONJ</th>\n      <th>PRT</th>\n      <th>PRON</th>\n      <th>NUM</th>\n      <th>X</th>\n    </tr>\n  </thead>\n  <tbody>\n    <tr>\n      <th>DET</th>\n      <td>0.005268</td>\n      <td>0.013603</td>\n      <td>0.005368</td>\n      <td>0.179943</td>\n      <td>0.440227</td>\n      <td>0.163229</td>\n      <td>0.081218</td>\n      <td>0.143541</td>\n      <td>0.080389</td>\n      <td>0.012229</td>\n      <td>0.010619</td>\n      <td>0.000000</td>\n    </tr>\n    <tr>\n      <th>NOUN</th>\n      <td>0.647379</td>\n      <td>0.259640</td>\n      <td>0.709961</td>\n      <td>0.127926</td>\n      <td>0.306030</td>\n      <td>0.234406</td>\n      <td>0.055539</td>\n      <td>0.345234</td>\n      <td>0.041519</td>\n      <td>0.007495</td>\n      <td>0.412742</td>\n      <td>0.119565</td>\n    </tr>\n    <tr>\n      <th>ADJ</th>\n      <td>0.233559</td>\n      <td>0.017029</td>\n      <td>0.060990</td>\n      <td>0.051254</td>\n      <td>0.077135</td>\n      <td>0.043092</td>\n      <td>0.120334</td>\n      <td>0.107840</td>\n      <td>0.017668</td>\n      <td>0.009073</td>\n      <td>0.069714</td>\n      <td>0.000000</td>\n    </tr>\n    <tr>\n      <th>VERB</th>\n      <td>0.054263</td>\n      <td>0.136752</td>\n      <td>0.015956</td>\n      <td>0.202445</td>\n      <td>0.037798</td>\n      <td>0.100436</td>\n      <td>0.273514</td>\n      <td>0.176297</td>\n      <td>0.651502</td>\n      <td>0.761341</td>\n      <td>0.046168</td>\n      <td>0.021739</td>\n    </tr>\n    <tr>\n      <th>ADP</th>\n      <td>0.008078</td>\n      <td>0.212664</td>\n      <td>0.072920</td>\n      <td>0.173970</td>\n      <td>0.016916</td>\n      <td>0.102532</td>\n      <td>0.156166</td>\n      <td>0.057416</td>\n      <td>0.102032</td>\n      <td>0.045759</td>\n      <td>0.132502</td>\n      <td>0.054348</td>\n    </tr>\n    <tr>\n      <th>.</th>\n      <td>0.010536</td>\n      <td>0.252235</td>\n      <td>0.065464</td>\n      <td>0.064727</td>\n      <td>0.008580</td>\n      <td>0.110664</td>\n      <td>0.132875</td>\n      <td>0.016930</td>\n      <td>0.041519</td>\n      <td>0.064300</td>\n      <td>0.235919</td>\n      <td>0.217391</td>\n    </tr>\n    <tr>\n      <th>ADV</th>\n      <td>0.013171</td>\n      <td>0.020650</td>\n      <td>0.005517</td>\n      <td>0.073269</td>\n      <td>0.010765</td>\n      <td>0.052482</td>\n      <td>0.075545</td>\n      <td>0.058152</td>\n      <td>0.033127</td>\n      <td>0.058383</td>\n      <td>0.036934</td>\n      <td>0.010870</td>\n    </tr>\n    <tr>\n      <th>CONJ</th>\n      <td>0.000351</td>\n      <td>0.047531</td>\n      <td>0.025947</td>\n      <td>0.009653</td>\n      <td>0.001052</td>\n      <td>0.064051</td>\n      <td>0.015826</td>\n      <td>0.000000</td>\n      <td>0.008392</td>\n      <td>0.011834</td>\n      <td>0.029086</td>\n      <td>0.010870</td>\n    </tr>\n    <tr>\n      <th>PRT</th>\n      <td>0.001756</td>\n      <td>0.016833</td>\n      <td>0.016105</td>\n      <td>0.067088</td>\n      <td>0.008580</td>\n      <td>0.024648</td>\n      <td>0.028367</td>\n      <td>0.024291</td>\n      <td>0.009717</td>\n      <td>0.021696</td>\n      <td>0.006925</td>\n      <td>0.010870</td>\n    </tr>\n    <tr>\n      <th>PRON</th>\n      <td>0.005707</td>\n      <td>0.012201</td>\n      <td>0.002535</td>\n      <td>0.032016</td>\n      <td>0.033994</td>\n      <td>0.077968</td>\n      <td>0.036429</td>\n      <td>0.042326</td>\n      <td>0.002208</td>\n      <td>0.006706</td>\n      <td>0.004155</td>\n      <td>0.000000</td>\n    </tr>\n    <tr>\n      <th>NUM</th>\n      <td>0.018966</td>\n      <td>0.010537</td>\n      <td>0.018938</td>\n      <td>0.017640</td>\n      <td>0.058600</td>\n      <td>0.025402</td>\n      <td>0.024186</td>\n      <td>0.027604</td>\n      <td>0.011926</td>\n      <td>0.001183</td>\n      <td>0.015235</td>\n      <td>0.000000</td>\n    </tr>\n    <tr>\n      <th>X</th>\n      <td>0.000966</td>\n      <td>0.000326</td>\n      <td>0.000298</td>\n      <td>0.000069</td>\n      <td>0.000324</td>\n      <td>0.001006</td>\n      <td>0.000000</td>\n      <td>0.000368</td>\n      <td>0.000000</td>\n      <td>0.000000</td>\n      <td>0.000000</td>\n      <td>0.554348</td>\n    </tr>\n  </tbody>\n</table>\n</div>",
      "text/plain": "           DET      NOUN       ADJ      VERB       ADP         .       ADV  \\\nDET   0.005268  0.013603  0.005368  0.179943  0.440227  0.163229  0.081218   \nNOUN  0.647379  0.259640  0.709961  0.127926  0.306030  0.234406  0.055539   \nADJ   0.233559  0.017029  0.060990  0.051254  0.077135  0.043092  0.120334   \nVERB  0.054263  0.136752  0.015956  0.202445  0.037798  0.100436  0.273514   \nADP   0.008078  0.212664  0.072920  0.173970  0.016916  0.102532  0.156166   \n.     0.010536  0.252235  0.065464  0.064727  0.008580  0.110664  0.132875   \nADV   0.013171  0.020650  0.005517  0.073269  0.010765  0.052482  0.075545   \nCONJ  0.000351  0.047531  0.025947  0.009653  0.001052  0.064051  0.015826   \nPRT   0.001756  0.016833  0.016105  0.067088  0.008580  0.024648  0.028367   \nPRON  0.005707  0.012201  0.002535  0.032016  0.033994  0.077968  0.036429   \nNUM   0.018966  0.010537  0.018938  0.017640  0.058600  0.025402  0.024186   \nX     0.000966  0.000326  0.000298  0.000069  0.000324  0.001006  0.000000   \n\n          CONJ       PRT      PRON       NUM         X  \nDET   0.143541  0.080389  0.012229  0.010619  0.000000  \nNOUN  0.345234  0.041519  0.007495  0.412742  0.119565  \nADJ   0.107840  0.017668  0.009073  0.069714  0.000000  \nVERB  0.176297  0.651502  0.761341  0.046168  0.021739  \nADP   0.057416  0.102032  0.045759  0.132502  0.054348  \n.     0.016930  0.041519  0.064300  0.235919  0.217391  \nADV   0.058152  0.033127  0.058383  0.036934  0.010870  \nCONJ  0.000000  0.008392  0.011834  0.029086  0.010870  \nPRT   0.024291  0.009717  0.021696  0.006925  0.010870  \nPRON  0.042326  0.002208  0.006706  0.004155  0.000000  \nNUM   0.027604  0.011926  0.001183  0.015235  0.000000  \nX     0.000368  0.000000  0.000000  0.000000  0.554348  "
     },
     "execution_count": 13,
     "metadata": {},
     "output_type": "execute_result"
    }
   ],
   "source": [
    "trans"
   ]
  },
  {
   "cell_type": "code",
   "execution_count": 73,
   "metadata": {},
   "outputs": [
    {
     "ename": "TypeError",
     "evalue": "'tuple' object does not support item assignment",
     "output_type": "error",
     "traceback": [
      "\u001b[1;31m---------------------------------------------------------------------------\u001b[0m",
      "\u001b[1;31mTypeError\u001b[0m                                 Traceback (most recent call last)",
      "\u001b[1;32m<ipython-input-73-908d3207281d>\u001b[0m in \u001b[0;36m<module>\u001b[1;34m\u001b[0m\n\u001b[0;32m      1\u001b[0m \u001b[1;32mfor\u001b[0m \u001b[0mi\u001b[0m\u001b[1;33m,\u001b[0m \u001b[0mpair\u001b[0m \u001b[1;32min\u001b[0m \u001b[0menumerate\u001b[0m\u001b[1;33m(\u001b[0m\u001b[0msequence\u001b[0m\u001b[1;33m)\u001b[0m\u001b[1;33m:\u001b[0m\u001b[1;33m\u001b[0m\u001b[1;33m\u001b[0m\u001b[0m\n\u001b[1;32m----> 2\u001b[1;33m         \u001b[0msequence\u001b[0m\u001b[1;33m[\u001b[0m\u001b[0mi\u001b[0m\u001b[1;33m]\u001b[0m\u001b[1;33m[\u001b[0m\u001b[1;36m0\u001b[0m\u001b[1;33m]\u001b[0m \u001b[1;33m=\u001b[0m \u001b[0msequence\u001b[0m\u001b[1;33m[\u001b[0m\u001b[0mi\u001b[0m\u001b[1;33m]\u001b[0m\u001b[1;33m[\u001b[0m\u001b[1;36m0\u001b[0m\u001b[1;33m]\u001b[0m\u001b[1;33m.\u001b[0m\u001b[0mlower\u001b[0m\u001b[1;33m(\u001b[0m\u001b[1;33m)\u001b[0m\u001b[1;33m\u001b[0m\u001b[1;33m\u001b[0m\u001b[0m\n\u001b[0m",
      "\u001b[1;31mTypeError\u001b[0m: 'tuple' object does not support item assignment"
     ]
    }
   ],
   "source": []
  },
  {
   "cell_type": "code",
   "execution_count": 76,
   "metadata": {},
   "outputs": [],
   "source": [
    "def get_emission( tags, words, sequence ):\n",
    "    length = len(words)\n",
    "    emission = pd.DataFrame(np.zeros(shape=(12,length)), columns=words, index=tags)\n",
    "    for tag in tags:\n",
    "        tag_list = list(filter(lambda x: x[1] == tag, sequence))\n",
    "        for word in words:\n",
    "            word_count = list(filter(lambda x: x[0].lower() == word.lower(), tag_list))\n",
    "            emission[word][tag] = float(len(word_count)/len(tag_list)) \n",
    "    return emission"
   ]
  },
  {
   "cell_type": "code",
   "execution_count": 77,
   "metadata": {},
   "outputs": [],
   "source": [
    "e = get_emission( tags, [\"science\",\"work\", \"but\",\"well\",\"like\",\"buffalo\", \"the\", \"flower\", \"nature\", \"Anna\"], sequence)\n"
   ]
  },
  {
   "cell_type": "code",
   "execution_count": 78,
   "metadata": {},
   "outputs": [
    {
     "data": {
      "text/html": "<div>\n<style scoped>\n    .dataframe tbody tr th:only-of-type {\n        vertical-align: middle;\n    }\n\n    .dataframe tbody tr th {\n        vertical-align: top;\n    }\n\n    .dataframe thead th {\n        text-align: right;\n    }\n</style>\n<table border=\"1\" class=\"dataframe\">\n  <thead>\n    <tr style=\"text-align: right;\">\n      <th></th>\n      <th>science</th>\n      <th>work</th>\n      <th>but</th>\n      <th>well</th>\n      <th>like</th>\n      <th>buffalo</th>\n      <th>the</th>\n      <th>flower</th>\n      <th>nature</th>\n      <th>Anna</th>\n    </tr>\n  </thead>\n  <tbody>\n    <tr>\n      <th>DET</th>\n      <td>0.000000</td>\n      <td>0.000000</td>\n      <td>0.000000</td>\n      <td>0.000000</td>\n      <td>0.000000</td>\n      <td>0.000000</td>\n      <td>0.560716</td>\n      <td>0.000000</td>\n      <td>0.000000</td>\n      <td>0.000000</td>\n    </tr>\n    <tr>\n      <th>NOUN</th>\n      <td>0.000326</td>\n      <td>0.001501</td>\n      <td>0.000000</td>\n      <td>0.000000</td>\n      <td>0.000000</td>\n      <td>0.000098</td>\n      <td>0.000000</td>\n      <td>0.000098</td>\n      <td>0.000228</td>\n      <td>0.000065</td>\n    </tr>\n    <tr>\n      <th>ADJ</th>\n      <td>0.000000</td>\n      <td>0.000000</td>\n      <td>0.000000</td>\n      <td>0.000298</td>\n      <td>0.000149</td>\n      <td>0.000000</td>\n      <td>0.000000</td>\n      <td>0.000000</td>\n      <td>0.000000</td>\n      <td>0.000000</td>\n    </tr>\n    <tr>\n      <th>VERB</th>\n      <td>0.000000</td>\n      <td>0.001458</td>\n      <td>0.000000</td>\n      <td>0.000000</td>\n      <td>0.001250</td>\n      <td>0.000000</td>\n      <td>0.000000</td>\n      <td>0.000000</td>\n      <td>0.000000</td>\n      <td>0.000000</td>\n    </tr>\n    <tr>\n      <th>ADP</th>\n      <td>0.000000</td>\n      <td>0.000000</td>\n      <td>0.000567</td>\n      <td>0.000000</td>\n      <td>0.002347</td>\n      <td>0.000000</td>\n      <td>0.000000</td>\n      <td>0.000000</td>\n      <td>0.000000</td>\n      <td>0.000000</td>\n    </tr>\n    <tr>\n      <th>.</th>\n      <td>0.000000</td>\n      <td>0.000000</td>\n      <td>0.000000</td>\n      <td>0.000000</td>\n      <td>0.000000</td>\n      <td>0.000000</td>\n      <td>0.000000</td>\n      <td>0.000000</td>\n      <td>0.000000</td>\n      <td>0.000000</td>\n    </tr>\n    <tr>\n      <th>ADV</th>\n      <td>0.000000</td>\n      <td>0.000000</td>\n      <td>0.000000</td>\n      <td>0.012242</td>\n      <td>0.000000</td>\n      <td>0.000000</td>\n      <td>0.000000</td>\n      <td>0.000000</td>\n      <td>0.000000</td>\n      <td>0.000000</td>\n    </tr>\n    <tr>\n      <th>CONJ</th>\n      <td>0.000000</td>\n      <td>0.000000</td>\n      <td>0.101583</td>\n      <td>0.000000</td>\n      <td>0.000000</td>\n      <td>0.000000</td>\n      <td>0.000000</td>\n      <td>0.000000</td>\n      <td>0.000000</td>\n      <td>0.000000</td>\n    </tr>\n    <tr>\n      <th>PRT</th>\n      <td>0.000000</td>\n      <td>0.000000</td>\n      <td>0.000000</td>\n      <td>0.000000</td>\n      <td>0.000000</td>\n      <td>0.000000</td>\n      <td>0.000000</td>\n      <td>0.000000</td>\n      <td>0.000000</td>\n      <td>0.000000</td>\n    </tr>\n    <tr>\n      <th>PRON</th>\n      <td>0.000000</td>\n      <td>0.000000</td>\n      <td>0.000000</td>\n      <td>0.000000</td>\n      <td>0.000000</td>\n      <td>0.000000</td>\n      <td>0.000000</td>\n      <td>0.000000</td>\n      <td>0.000000</td>\n      <td>0.000000</td>\n    </tr>\n    <tr>\n      <th>NUM</th>\n      <td>0.000000</td>\n      <td>0.000000</td>\n      <td>0.000000</td>\n      <td>0.000000</td>\n      <td>0.000000</td>\n      <td>0.000000</td>\n      <td>0.000000</td>\n      <td>0.000000</td>\n      <td>0.000000</td>\n      <td>0.000000</td>\n    </tr>\n    <tr>\n      <th>X</th>\n      <td>0.000000</td>\n      <td>0.000000</td>\n      <td>0.000000</td>\n      <td>0.000000</td>\n      <td>0.000000</td>\n      <td>0.000000</td>\n      <td>0.000000</td>\n      <td>0.000000</td>\n      <td>0.000000</td>\n      <td>0.000000</td>\n    </tr>\n  </tbody>\n</table>\n</div>",
      "text/plain": "       science      work       but      well      like   buffalo       the  \\\nDET   0.000000  0.000000  0.000000  0.000000  0.000000  0.000000  0.560716   \nNOUN  0.000326  0.001501  0.000000  0.000000  0.000000  0.000098  0.000000   \nADJ   0.000000  0.000000  0.000000  0.000298  0.000149  0.000000  0.000000   \nVERB  0.000000  0.001458  0.000000  0.000000  0.001250  0.000000  0.000000   \nADP   0.000000  0.000000  0.000567  0.000000  0.002347  0.000000  0.000000   \n.     0.000000  0.000000  0.000000  0.000000  0.000000  0.000000  0.000000   \nADV   0.000000  0.000000  0.000000  0.012242  0.000000  0.000000  0.000000   \nCONJ  0.000000  0.000000  0.101583  0.000000  0.000000  0.000000  0.000000   \nPRT   0.000000  0.000000  0.000000  0.000000  0.000000  0.000000  0.000000   \nPRON  0.000000  0.000000  0.000000  0.000000  0.000000  0.000000  0.000000   \nNUM   0.000000  0.000000  0.000000  0.000000  0.000000  0.000000  0.000000   \nX     0.000000  0.000000  0.000000  0.000000  0.000000  0.000000  0.000000   \n\n        flower    nature      Anna  \nDET   0.000000  0.000000  0.000000  \nNOUN  0.000098  0.000228  0.000065  \nADJ   0.000000  0.000000  0.000000  \nVERB  0.000000  0.000000  0.000000  \nADP   0.000000  0.000000  0.000000  \n.     0.000000  0.000000  0.000000  \nADV   0.000000  0.000000  0.000000  \nCONJ  0.000000  0.000000  0.000000  \nPRT   0.000000  0.000000  0.000000  \nPRON  0.000000  0.000000  0.000000  \nNUM   0.000000  0.000000  0.000000  \nX     0.000000  0.000000  0.000000  "
     },
     "execution_count": 78,
     "metadata": {},
     "output_type": "execute_result"
    }
   ],
   "source": [
    "e"
   ]
  },
  {
   "cell_type": "code",
   "execution_count": 62,
   "metadata": {},
   "outputs": [
    {
     "data": {
      "text/plain": "[('The', 'DET'),\n ('an', 'DET'),\n ('no', 'DET'),\n ('any', 'DET'),\n ('The', 'DET'),\n ('the', 'DET'),\n ('which', 'DET'),\n ('the', 'DET'),\n ('the', 'DET'),\n ('the', 'DET'),\n ('the', 'DET'),\n ('which', 'DET'),\n ('the', 'DET'),\n ('The', 'DET'),\n ('the', 'DET'),\n ('which', 'DET'),\n ('a', 'DET'),\n ('the', 'DET'),\n ('the', 'DET'),\n ('the', 'DET'),\n ('the', 'DET'),\n ('the', 'DET'),\n ('this', 'DET'),\n ('The', 'DET'),\n ('these', 'DET'),\n ('the', 'DET'),\n ('The', 'DET'),\n ('a', 'DET'),\n ('the', 'DET'),\n ('which', 'DET'),\n ('which', 'DET'),\n ('the', 'DET'),\n ('both', 'DET'),\n ('the', 'DET'),\n ('these', 'DET'),\n ('the', 'DET'),\n ('The', 'DET'),\n ('the', 'DET'),\n ('a', 'DET'),\n ('the', 'DET'),\n ('this', 'DET'),\n ('the', 'DET'),\n ('the', 'DET'),\n ('the', 'DET'),\n ('an', 'DET'),\n ('the', 'DET'),\n ('The', 'DET'),\n ('a', 'DET'),\n ('the', 'DET'),\n ('This', 'DET'),\n ('the', 'DET'),\n ('the', 'DET'),\n ('the', 'DET'),\n ('the', 'DET'),\n ('these', 'DET'),\n ('the', 'DET'),\n ('the', 'DET'),\n ('the', 'DET'),\n ('the', 'DET'),\n ('which', 'DET'),\n ('this', 'DET'),\n ('The', 'DET'),\n ('a', 'DET'),\n ('these', 'DET'),\n ('this', 'DET'),\n ('our', 'DET'),\n ('the', 'DET'),\n ('some', 'DET'),\n ('these', 'DET'),\n ('the', 'DET'),\n ('this', 'DET'),\n ('a', 'DET'),\n ('The', 'DET'),\n ('the', 'DET'),\n ('which', 'DET'),\n ('its', 'DET'),\n ('the', 'DET'),\n ('the', 'DET'),\n ('The', 'DET'),\n ('the', 'DET'),\n ('its', 'DET'),\n ('the', 'DET'),\n ('the', 'DET'),\n ('an', 'DET'),\n ('These', 'DET'),\n ('the', 'DET'),\n ('its', 'DET'),\n ('the', 'DET'),\n ('the', 'DET'),\n ('the', 'DET'),\n ('the', 'DET'),\n ('a', 'DET'),\n ('The', 'DET'),\n ('the', 'DET'),\n ('the', 'DET'),\n ('the', 'DET'),\n ('the', 'DET'),\n ('the', 'DET'),\n ('the', 'DET'),\n ('a', 'DET'),\n ('the', 'DET'),\n ('the', 'DET'),\n ('a', 'DET'),\n ('The', 'DET'),\n ('the', 'DET'),\n ('the', 'DET'),\n ('the', 'DET'),\n ('the', 'DET'),\n ('the', 'DET'),\n ('his', 'DET'),\n ('His', 'DET'),\n ('The', 'DET'),\n ('a', 'DET'),\n ('a', 'DET'),\n ('the', 'DET'),\n ('an', 'DET'),\n ('The', 'DET'),\n ('the', 'DET'),\n ('his', 'DET'),\n ('his', 'DET'),\n ('The', 'DET'),\n ('the', 'DET'),\n ('a', 'DET'),\n ('The', 'DET'),\n ('the', 'DET'),\n ('the', 'DET'),\n ('His', 'DET'),\n ('his', 'DET'),\n ('The', 'DET'),\n ('a', 'DET'),\n ('the', 'DET'),\n ('a', 'DET'),\n ('the', 'DET'),\n ('a', 'DET'),\n ('a', 'DET'),\n ('the', 'DET'),\n ('a', 'DET'),\n ('which', 'DET'),\n ('the', 'DET'),\n ('the', 'DET'),\n ('the', 'DET'),\n ('a', 'DET'),\n ('the', 'DET'),\n ('the', 'DET'),\n ('a', 'DET'),\n ('a', 'DET'),\n ('the', 'DET'),\n ('the', 'DET'),\n ('no', 'DET'),\n ('The', 'DET'),\n ('the', 'DET'),\n ('a', 'DET'),\n ('which', 'DET'),\n ('a', 'DET'),\n ('the', 'DET'),\n ('each', 'DET'),\n ('the', 'DET'),\n ('the', 'DET'),\n ('The', 'DET'),\n ('a', 'DET'),\n ('the', 'DET'),\n ('a', 'DET'),\n ('which', 'DET'),\n ('the', 'DET'),\n ('its', 'DET'),\n ('some', 'DET'),\n ('an', 'DET'),\n ('the', 'DET'),\n ('a', 'DET'),\n ('The', 'DET'),\n ('its', 'DET'),\n ('some', 'DET'),\n ('the', 'DET'),\n ('the', 'DET'),\n ('a', 'DET'),\n ('the', 'DET'),\n ('what', 'DET'),\n ('the', 'DET'),\n ('both', 'DET'),\n ('the', 'DET'),\n ('the', 'DET'),\n ('his', 'DET'),\n ('the', 'DET'),\n ('the', 'DET'),\n ('The', 'DET'),\n ('the', 'DET'),\n ('a', 'DET'),\n ('the', 'DET'),\n ('the', 'DET'),\n ('the', 'DET'),\n ('some', 'DET'),\n ('A', 'DET'),\n ('a', 'DET'),\n ('some', 'DET'),\n ('A', 'DET'),\n ('The', 'DET'),\n ('the', 'DET'),\n ('a', 'DET'),\n ('which', 'DET'),\n ('every', 'DET'),\n ('a', 'DET'),\n ('the', 'DET'),\n ('his', 'DET'),\n ('a', 'DET'),\n ('the', 'DET'),\n ('the', 'DET'),\n ('The', 'DET'),\n ('The', 'DET'),\n ('the', 'DET'),\n ('the', 'DET'),\n ('a', 'DET'),\n ('the', 'DET'),\n ('the', 'DET'),\n ('a', 'DET'),\n ('the', 'DET'),\n ('the', 'DET'),\n ('the', 'DET'),\n ('his', 'DET'),\n ('the', 'DET'),\n ('which', 'DET'),\n ('the', 'DET'),\n ('A', 'DET'),\n ('the', 'DET'),\n ('a', 'DET'),\n ('no', 'DET'),\n ('a', 'DET'),\n ('the', 'DET'),\n ('a', 'DET'),\n ('A', 'DET'),\n ('the', 'DET'),\n ('the', 'DET'),\n ('the', 'DET'),\n ('a', 'DET'),\n ('his', 'DET'),\n ('a', 'DET'),\n ('some', 'DET'),\n ('our', 'DET'),\n ('the', 'DET'),\n ('the', 'DET'),\n ('The', 'DET'),\n ('which', 'DET'),\n ('the', 'DET'),\n ('the', 'DET'),\n ('this', 'DET'),\n ('the', 'DET'),\n ('a', 'DET'),\n ('a', 'DET'),\n ('a', 'DET'),\n ('the', 'DET'),\n ('this', 'DET'),\n ('The', 'DET'),\n ('a', 'DET'),\n ('a', 'DET'),\n ('the', 'DET'),\n ('a', 'DET'),\n ('the', 'DET'),\n ('This', 'DET'),\n ('the', 'DET'),\n ('the', 'DET'),\n ('a', 'DET'),\n ('a', 'DET'),\n ('The', 'DET'),\n ('the', 'DET'),\n ('The', 'DET'),\n ('his', 'DET'),\n ('a', 'DET'),\n ('the', 'DET'),\n ('the', 'DET'),\n ('both', 'DET'),\n ('the', 'DET'),\n ('the', 'DET'),\n ('a', 'DET'),\n ('a', 'DET'),\n ('an', 'DET'),\n ('the', 'DET'),\n ('his', 'DET'),\n ('the', 'DET'),\n ('a', 'DET'),\n ('the', 'DET'),\n ('the', 'DET'),\n ('the', 'DET'),\n ('which', 'DET'),\n ('its', 'DET'),\n ('a', 'DET'),\n ('the', 'DET'),\n ('a', 'DET'),\n ('which', 'DET'),\n ('his', 'DET'),\n ('an', 'DET'),\n ('the', 'DET'),\n ('the', 'DET'),\n ('the', 'DET'),\n ('the', 'DET'),\n ('the', 'DET'),\n ('which', 'DET'),\n ('the', 'DET'),\n ('a', 'DET'),\n ('the', 'DET'),\n ('The', 'DET'),\n ('which', 'DET'),\n ('the', 'DET'),\n ('The', 'DET'),\n ('a', 'DET'),\n ('the', 'DET'),\n ('the', 'DET'),\n ('their', 'DET'),\n ('the', 'DET'),\n ('the', 'DET'),\n ('the', 'DET'),\n ('a', 'DET'),\n ('a', 'DET'),\n ('the', 'DET'),\n ('His', 'DET'),\n ('the', 'DET'),\n ('the', 'DET'),\n ('the', 'DET'),\n ('the', 'DET'),\n ('the', 'DET'),\n ('the', 'DET'),\n ('The', 'DET'),\n ('the', 'DET'),\n ('a', 'DET'),\n ('the', 'DET'),\n ('no', 'DET'),\n ('the', 'DET'),\n ('the', 'DET'),\n ('the', 'DET'),\n ('the', 'DET'),\n ('the', 'DET'),\n ('the', 'DET'),\n ('the', 'DET'),\n ('the', 'DET'),\n ('the', 'DET'),\n ('the', 'DET'),\n ('which', 'DET'),\n ('a', 'DET'),\n ('the', 'DET'),\n ('the', 'DET'),\n ('The', 'DET'),\n ('the', 'DET'),\n ('the', 'DET'),\n ('a', 'DET'),\n ('this', 'DET'),\n ('my', 'DET'),\n ('an', 'DET'),\n ('his', 'DET'),\n ('the', 'DET'),\n ('A', 'DET'),\n ('which', 'DET'),\n ('his', 'DET'),\n ('a', 'DET'),\n ('the', 'DET'),\n ('The', 'DET'),\n ('the', 'DET'),\n ('a', 'DET'),\n ('the', 'DET'),\n ('The', 'DET'),\n ('its', 'DET'),\n ('the', 'DET'),\n ('the', 'DET'),\n ('Another', 'DET'),\n ('the', 'DET'),\n ('The', 'DET'),\n ('the', 'DET'),\n ('the', 'DET'),\n ('which', 'DET'),\n ('a', 'DET'),\n ('a', 'DET'),\n ('the', 'DET'),\n ('a', 'DET'),\n ('the', 'DET'),\n ('the', 'DET'),\n ('its', 'DET'),\n ('the', 'DET'),\n ('the', 'DET'),\n ('a', 'DET'),\n ('a', 'DET'),\n ('the', 'DET'),\n ('each', 'DET'),\n ('a', 'DET'),\n ('which', 'DET'),\n ('a', 'DET'),\n ('a', 'DET'),\n ('a', 'DET'),\n ('the', 'DET'),\n ('The', 'DET'),\n ('their', 'DET'),\n ('the', 'DET'),\n ('the', 'DET'),\n ('a', 'DET'),\n ('the', 'DET'),\n ('a', 'DET'),\n ('the', 'DET'),\n ('the', 'DET'),\n ('an', 'DET'),\n ('a', 'DET'),\n ('the', 'DET'),\n ('the', 'DET'),\n ('the', 'DET'),\n ('a', 'DET'),\n ('what', 'DET'),\n ('An', 'DET'),\n ('the', 'DET'),\n ('a', 'DET'),\n ('which', 'DET'),\n ('the', 'DET'),\n ('the', 'DET'),\n ('a', 'DET'),\n ('the', 'DET'),\n ('the', 'DET'),\n ('the', 'DET'),\n ('The', 'DET'),\n ('the', 'DET'),\n ('The', 'DET'),\n ('the', 'DET'),\n ('the', 'DET'),\n ('the', 'DET'),\n ('an', 'DET'),\n ('the', 'DET'),\n ('a', 'DET'),\n ('the', 'DET'),\n ('an', 'DET'),\n ('a', 'DET'),\n ('the', 'DET'),\n ('the', 'DET'),\n ('the', 'DET'),\n ('a', 'DET'),\n ('the', 'DET'),\n ('The', 'DET'),\n ('the', 'DET'),\n ('the', 'DET'),\n ('a', 'DET'),\n ('this', 'DET'),\n ('a', 'DET'),\n ('which', 'DET'),\n ('its', 'DET'),\n ('the', 'DET'),\n ('The', 'DET'),\n ('This', 'DET'),\n ('a', 'DET'),\n ('This', 'DET'),\n ('the', 'DET'),\n ('A', 'DET'),\n ('the', 'DET'),\n ('a', 'DET'),\n ('the', 'DET'),\n ('the', 'DET'),\n ('the', 'DET'),\n ('a', 'DET'),\n ('A', 'DET'),\n ('the', 'DET'),\n ('The', 'DET'),\n ('the', 'DET'),\n ('A', 'DET'),\n ('a', 'DET'),\n ('the', 'DET'),\n ('the', 'DET'),\n ('the', 'DET'),\n ('the', 'DET'),\n ('The', 'DET'),\n ('the', 'DET'),\n ('the', 'DET'),\n ('the', 'DET'),\n ('an', 'DET'),\n ('the', 'DET'),\n ('a', 'DET'),\n ('a', 'DET'),\n ('his', 'DET'),\n ('his', 'DET'),\n ('a', 'DET'),\n ('an', 'DET'),\n ('the', 'DET'),\n ('an', 'DET'),\n ('a', 'DET'),\n ('the', 'DET'),\n ('the', 'DET'),\n ('the', 'DET'),\n ('the', 'DET'),\n ('the', 'DET'),\n ('the', 'DET'),\n ('a', 'DET'),\n ('a', 'DET'),\n ('the', 'DET'),\n ('The', 'DET'),\n ('a', 'DET'),\n ('the', 'DET'),\n ('a', 'DET'),\n ('the', 'DET'),\n ('The', 'DET'),\n ('the', 'DET'),\n ('The', 'DET'),\n ('the', 'DET'),\n ('the', 'DET'),\n ('which', 'DET'),\n ('these', 'DET'),\n ('The', 'DET'),\n ('the', 'DET'),\n ('These', 'DET'),\n ('the', 'DET'),\n ('the', 'DET'),\n ('the', 'DET'),\n ('any', 'DET'),\n ('both', 'DET'),\n ('a', 'DET'),\n ('the', 'DET'),\n ('the', 'DET'),\n ('their', 'DET'),\n ('the', 'DET'),\n ('their', 'DET'),\n ('The', 'DET'),\n ('the', 'DET'),\n ('a', 'DET'),\n ('the', 'DET'),\n ('the', 'DET'),\n ('the', 'DET'),\n ('his', 'DET'),\n ('a', 'DET'),\n ('the', 'DET'),\n ('the', 'DET'),\n ('the', 'DET'),\n ('The', 'DET'),\n ('my', 'DET'),\n ('the', 'DET'),\n ('Some', 'DET'),\n ('the', 'DET'),\n ('a', 'DET'),\n ('some', 'DET'),\n ('the', 'DET'),\n ('the', 'DET'),\n ('some', 'DET'),\n ('the', 'DET'),\n ('this', 'DET'),\n ('your', 'DET'),\n ('What', 'DET'),\n ('this', 'DET'),\n ('a', 'DET'),\n ('this', 'DET'),\n ('a', 'DET'),\n ('the', 'DET'),\n ('his', 'DET'),\n ('the', 'DET'),\n ('the', 'DET'),\n ('The', 'DET'),\n ('the', 'DET'),\n ('his', 'DET'),\n ('the', 'DET'),\n ('the', 'DET'),\n ('the', 'DET'),\n ('the', 'DET'),\n ('a', 'DET'),\n ('the', 'DET'),\n ('a', 'DET'),\n ('the', 'DET'),\n ('his', 'DET'),\n ('the', 'DET'),\n ('the', 'DET'),\n ('the', 'DET'),\n ('The', 'DET'),\n ('the', 'DET'),\n ('the', 'DET'),\n ('the', 'DET'),\n ('the', 'DET'),\n ('a', 'DET'),\n ('the', 'DET'),\n ('the', 'DET'),\n ('the', 'DET'),\n ('the', 'DET'),\n ('the', 'DET'),\n ('the', 'DET'),\n ('a', 'DET'),\n ('the', 'DET'),\n ('the', 'DET'),\n ('the', 'DET'),\n ('the', 'DET'),\n ('the', 'DET'),\n ('the', 'DET'),\n ('this', 'DET'),\n ('a', 'DET'),\n ('the', 'DET'),\n ('this', 'DET'),\n ('a', 'DET'),\n ('the', 'DET'),\n ('the', 'DET'),\n ('the', 'DET'),\n ('a', 'DET'),\n ('the', 'DET'),\n ('the', 'DET'),\n ('that', 'DET'),\n ('the', 'DET'),\n ('this', 'DET'),\n ('a', 'DET'),\n ('this', 'DET'),\n ('the', 'DET'),\n ('these', 'DET'),\n ('the', 'DET'),\n ('which', 'DET'),\n ('another', 'DET'),\n ('The', 'DET'),\n ('the', 'DET'),\n ('the', 'DET'),\n ('the', 'DET'),\n ('the', 'DET'),\n ('the', 'DET'),\n ('the', 'DET'),\n ('the', 'DET'),\n ('the', 'DET'),\n ('The', 'DET'),\n ('the', 'DET'),\n ('the', 'DET'),\n ('the', 'DET'),\n ('his', 'DET'),\n ('the', 'DET'),\n ('the', 'DET'),\n ('a', 'DET'),\n ('the', 'DET'),\n ('some', 'DET'),\n ('The', 'DET'),\n ('a', 'DET'),\n ('his', 'DET'),\n ('The', 'DET'),\n ('the', 'DET'),\n ('a', 'DET'),\n ('a', 'DET'),\n ('a', 'DET'),\n ('the', 'DET'),\n ('a', 'DET'),\n ('each', 'DET'),\n ('the', 'DET'),\n ('The', 'DET'),\n ('each', 'DET'),\n ('the', 'DET'),\n ('The', 'DET'),\n ('the', 'DET'),\n ('a', 'DET'),\n ('the', 'DET'),\n ('each', 'DET'),\n ('those', 'DET'),\n ('the', 'DET'),\n ('The', 'DET'),\n ('the', 'DET'),\n ('the', 'DET'),\n ('that', 'DET'),\n ('the', 'DET'),\n ('the', 'DET'),\n ('the', 'DET'),\n ('Both', 'DET'),\n ('the', 'DET'),\n ('the', 'DET'),\n ('These', 'DET'),\n ('The', 'DET'),\n ('these', 'DET'),\n ('the', 'DET'),\n ('each', 'DET'),\n ('the', 'DET'),\n ('a', 'DET'),\n ('the', 'DET'),\n ('the', 'DET'),\n ('a', 'DET'),\n ('A', 'DET'),\n ('a', 'DET'),\n ('those', 'DET'),\n ('the', 'DET'),\n ('a', 'DET'),\n ('an', 'DET'),\n ('The', 'DET'),\n ('a', 'DET'),\n ('the', 'DET'),\n ('his', 'DET'),\n ('the', 'DET'),\n ('those', 'DET'),\n ('no', 'DET'),\n ('the', 'DET'),\n ('the', 'DET'),\n ('their', 'DET'),\n ('those', 'DET'),\n ('their', 'DET'),\n ('an', 'DET'),\n ('This', 'DET'),\n ('a', 'DET'),\n ('any', 'DET'),\n ('our', 'DET'),\n ('This', 'DET'),\n ('a', 'DET'),\n ('a', 'DET'),\n ('Every', 'DET'),\n ('his', 'DET'),\n ('The', 'DET'),\n ('the', 'DET'),\n ('the', 'DET'),\n ('the', 'DET'),\n ('The', 'DET'),\n ('the', 'DET'),\n ('the', 'DET'),\n ('the', 'DET'),\n ('the', 'DET'),\n ('The', 'DET'),\n ('each', 'DET'),\n ('a', 'DET'),\n ('the', 'DET'),\n ('The', 'DET'),\n ('the', 'DET'),\n ('a', 'DET'),\n ('the', 'DET'),\n ('a', 'DET'),\n ('the', 'DET'),\n ('each', 'DET'),\n ('the', 'DET'),\n ('the', 'DET'),\n ('The', 'DET'),\n ('the', 'DET'),\n ('the', 'DET'),\n ('the', 'DET'),\n ('the', 'DET'),\n ('a', 'DET'),\n ('another', 'DET'),\n ('an', 'DET'),\n ('the', 'DET'),\n ('the', 'DET'),\n ('an', 'DET'),\n ('the', 'DET'),\n ('a', 'DET'),\n ('The', 'DET'),\n ('a', 'DET'),\n ('a', 'DET'),\n ('The', 'DET'),\n ('an', 'DET'),\n ('the', 'DET'),\n ('the', 'DET'),\n ('The', 'DET'),\n ('his', 'DET'),\n ('the', 'DET'),\n ('a', 'DET'),\n ('the', 'DET'),\n ('the', 'DET'),\n ('the', 'DET'),\n ('the', 'DET'),\n ('Those', 'DET'),\n ('a', 'DET'),\n ('the', 'DET'),\n ('the', 'DET'),\n ('their', 'DET'),\n ('the', 'DET'),\n ('a', 'DET'),\n ('the', 'DET'),\n ('a', 'DET'),\n ('no', 'DET'),\n ('its', 'DET'),\n ('the', 'DET'),\n ('the', 'DET'),\n ('the', 'DET'),\n ('the', 'DET'),\n ('no', 'DET'),\n ('A', 'DET'),\n ('the', 'DET'),\n ('the', 'DET'),\n ('the', 'DET'),\n ('those', 'DET'),\n ('a', 'DET'),\n ('a', 'DET'),\n ('the', 'DET'),\n ('The', 'DET'),\n ('The', 'DET'),\n ('the', 'DET'),\n ('the', 'DET'),\n ('This', 'DET'),\n ('a', 'DET'),\n ('an', 'DET'),\n ('its', 'DET'),\n ('its', 'DET'),\n ('the', 'DET'),\n ('a', 'DET'),\n ('a', 'DET'),\n (\"another's\", 'DET'),\n ('This', 'DET'),\n ('the', 'DET'),\n ('those', 'DET'),\n ('a', 'DET'),\n ('The', 'DET'),\n ('a', 'DET'),\n ('those', 'DET'),\n ('the', 'DET'),\n ('the', 'DET'),\n ('these', 'DET'),\n ('its', 'DET'),\n ('the', 'DET'),\n ('which', 'DET'),\n ('a', 'DET'),\n ('the', 'DET'),\n ('its', 'DET'),\n ('a', 'DET'),\n ('The', 'DET'),\n ('no', 'DET'),\n ('the', 'DET'),\n ('no', 'DET'),\n ('the', 'DET'),\n ('a', 'DET'),\n ('the', 'DET'),\n ('the', 'DET'),\n ('the', 'DET'),\n ('the', 'DET'),\n ('the', 'DET'),\n ('the', 'DET'),\n ('this', 'DET'),\n ('the', 'DET'),\n ('the', 'DET'),\n ('the', 'DET'),\n ('the', 'DET'),\n ('some', 'DET'),\n ('the', 'DET'),\n ('the', 'DET'),\n ('the', 'DET'),\n ('the', 'DET'),\n ('this', 'DET'),\n ('the', 'DET'),\n ('its', 'DET'),\n ('A', 'DET'),\n ('the', 'DET'),\n ('the', 'DET'),\n ('a', 'DET'),\n ('no', 'DET'),\n ('The', 'DET'),\n ('these', 'DET'),\n ('the', 'DET'),\n ('a', 'DET'),\n ('a', 'DET'),\n ('The', 'DET'),\n ('his', 'DET'),\n ('some', 'DET'),\n ('the', 'DET'),\n ('the', 'DET'),\n ('the', 'DET'),\n ('the', 'DET'),\n ('the', 'DET'),\n ('the', 'DET'),\n ('the', 'DET'),\n ('the', 'DET'),\n ('its', 'DET'),\n ('The', 'DET'),\n ('a', 'DET'),\n ('the', 'DET'),\n ('the', 'DET'),\n ('another', 'DET'),\n ('an', 'DET'),\n ('the', 'DET'),\n ('a', 'DET'),\n ('The', 'DET'),\n ('the', 'DET'),\n ('the', 'DET'),\n ('the', 'DET'),\n ('The', 'DET'),\n ('an', 'DET'),\n ('the', 'DET'),\n ('the', 'DET'),\n ('the', 'DET'),\n ('a', 'DET'),\n ('the', 'DET'),\n ('the', 'DET'),\n ('the', 'DET'),\n ('the', 'DET'),\n ('This', 'DET'),\n ('the', 'DET'),\n ('the', 'DET'),\n ('the', 'DET'),\n ('the', 'DET'),\n ('Each', 'DET'),\n ('The', 'DET'),\n ('a', 'DET'),\n ('its', 'DET'),\n ('the', 'DET'),\n ('the', 'DET'),\n ('any', 'DET'),\n ('the', 'DET'),\n ('the', 'DET'),\n ('The', 'DET'),\n ('an', 'DET'),\n ('which', 'DET'),\n ('a', 'DET'),\n ('the', 'DET'),\n ('the', 'DET'),\n ('the', 'DET'),\n ('this', 'DET'),\n ('The', 'DET'),\n ('any', 'DET'),\n ('no', 'DET'),\n ('a', 'DET'),\n ('The', 'DET'),\n ('a', 'DET'),\n ('a', 'DET'),\n ('the', 'DET'),\n ('the', 'DET'),\n ('the', 'DET'),\n ('This', 'DET'),\n ('another', 'DET'),\n ('the', 'DET'),\n ('the', 'DET'),\n ('these', 'DET'),\n ('the', 'DET'),\n ('the', 'DET'),\n ('Its', 'DET'),\n ('the', 'DET'),\n ('the', 'DET'),\n ('the', 'DET'),\n ('the', 'DET'),\n ('no', 'DET'),\n ('the', 'DET'),\n ('the', 'DET'),\n ('a', 'DET'),\n ('the', 'DET'),\n ('what', 'DET'),\n ('a', 'DET'),\n ('this', 'DET'),\n ('the', 'DET'),\n ('the', 'DET'),\n ('this', 'DET'),\n ('the', 'DET'),\n ('this', 'DET'),\n ('His', 'DET'),\n ('the', 'DET'),\n ('the', 'DET'),\n ('the', 'DET'),\n ('The', 'DET'),\n ('some', 'DET'),\n ('the', 'DET'),\n ('the', 'DET'),\n ('the', 'DET'),\n ('a', 'DET'),\n ('another', 'DET'),\n ('This', 'DET'),\n ('the', 'DET'),\n ('no', 'DET'),\n ('the', 'DET'),\n ('the', 'DET'),\n ('the', 'DET'),\n ('the', 'DET'),\n ('a', 'DET'),\n ('a', 'DET'),\n ('its', 'DET'),\n ('the', 'DET'),\n ('which', 'DET'),\n ('his', 'DET'),\n ('any', 'DET'),\n ('the', 'DET'),\n ('the', 'DET'),\n ('any', 'DET'),\n ('a', 'DET'),\n ('the', 'DET'),\n ('both', 'DET'),\n ('the', 'DET'),\n ('his', 'DET'),\n ('the', 'DET'),\n ('a', 'DET'),\n ('the', 'DET'),\n ('the', 'DET'),\n ('the', 'DET'),\n ('the', 'DET'),\n ('no', 'DET'),\n ('the', 'DET'),\n ('the', 'DET'),\n ('a', 'DET'),\n ('a', 'DET'),\n ('the', 'DET'),\n ('the', 'DET'),\n ('the', 'DET'),\n ('the', 'DET'),\n ('an', 'DET'),\n ('the', 'DET'),\n ('a', 'DET'),\n ('the', 'DET'),\n ('the', 'DET'),\n ('the', 'DET'),\n ('the', 'DET'),\n ('any', 'DET'),\n ('the', 'DET'),\n ('a', 'DET'),\n ('an', 'DET'),\n ('Some', 'DET'),\n ('the', 'DET'),\n ('the', 'DET'),\n ('an', 'DET'),\n ('its', 'DET'),\n ('The', 'DET'),\n ('a', 'DET'),\n ('The', 'DET'),\n ('which', 'DET'),\n ('the', 'DET'),\n ('a', 'DET'),\n ('the', 'DET'),\n ('the', 'DET'),\n ('any', 'DET'),\n ('the', 'DET'),\n ('the', 'DET'),\n ('the', 'DET'),\n ('the', 'DET'),\n ('any', 'DET'),\n ('an', 'DET'),\n ('the', 'DET'),\n ('the', 'DET'),\n ('the', 'DET'),\n ('a', 'DET'),\n ('a', 'DET'),\n ...]"
     },
     "execution_count": 62,
     "metadata": {},
     "output_type": "execute_result"
    }
   ],
   "source": []
  },
  {
   "cell_type": "code",
   "execution_count": 63,
   "metadata": {},
   "outputs": [
    {
     "data": {
      "text/plain": "[('which', 'DET'),\n ('which', 'DET'),\n ('which', 'DET'),\n ('which', 'DET'),\n ('which', 'DET'),\n ('which', 'DET'),\n ('which', 'DET'),\n ('which', 'DET'),\n ('which', 'DET'),\n ('which', 'DET'),\n ('which', 'DET'),\n ('which', 'DET'),\n ('which', 'DET'),\n ('which', 'DET'),\n ('which', 'DET'),\n ('which', 'DET'),\n ('which', 'DET'),\n ('which', 'DET'),\n ('which', 'DET'),\n ('which', 'DET'),\n ('which', 'DET'),\n ('which', 'DET'),\n ('which', 'DET'),\n ('which', 'DET'),\n ('which', 'DET'),\n ('which', 'DET'),\n ('which', 'DET'),\n ('which', 'DET'),\n ('which', 'DET'),\n ('which', 'DET'),\n ('which', 'DET'),\n ('which', 'DET'),\n ('which', 'DET'),\n ('which', 'DET'),\n ('which', 'DET'),\n ('which', 'DET'),\n ('which', 'DET'),\n ('which', 'DET'),\n ('which', 'DET'),\n ('which', 'DET'),\n ('which', 'DET'),\n ('which', 'DET'),\n ('which', 'DET'),\n ('which', 'DET'),\n ('which', 'DET'),\n ('which', 'DET'),\n ('which', 'DET'),\n ('which', 'DET'),\n ('which', 'DET'),\n ('which', 'DET'),\n ('which', 'DET'),\n ('which', 'DET'),\n ('which', 'DET'),\n ('which', 'DET'),\n ('which', 'DET'),\n ('which', 'DET'),\n ('which', 'DET'),\n ('which', 'DET'),\n ('which', 'DET'),\n ('which', 'DET'),\n ('which', 'DET'),\n ('which', 'DET'),\n ('which', 'DET'),\n ('which', 'DET'),\n ('which', 'DET'),\n ('which', 'DET'),\n ('which', 'DET'),\n ('which', 'DET'),\n ('which', 'DET'),\n ('which', 'DET'),\n ('which', 'DET'),\n ('which', 'DET'),\n ('which', 'DET'),\n ('which', 'DET'),\n ('which', 'DET'),\n ('which', 'DET'),\n ('which', 'DET'),\n ('which', 'DET'),\n ('which', 'DET'),\n ('which', 'DET'),\n ('which', 'DET'),\n ('which', 'DET'),\n ('which', 'DET'),\n ('which', 'DET'),\n ('which', 'DET'),\n ('which', 'DET'),\n ('which', 'DET'),\n ('which', 'DET'),\n ('which', 'DET'),\n ('which', 'DET'),\n ('which', 'DET'),\n ('which', 'DET'),\n ('which', 'DET'),\n ('which', 'DET'),\n ('which', 'DET'),\n ('which', 'DET'),\n ('which', 'DET'),\n ('which', 'DET'),\n ('which', 'DET'),\n ('which', 'DET'),\n ('which', 'DET'),\n ('which', 'DET'),\n ('which', 'DET'),\n ('which', 'DET'),\n ('which', 'DET'),\n ('which', 'DET'),\n ('which', 'DET'),\n ('which', 'DET'),\n ('which', 'DET'),\n ('which', 'DET'),\n ('which', 'DET'),\n ('which', 'DET'),\n ('which', 'DET'),\n ('which', 'DET'),\n ('which', 'DET'),\n ('which', 'DET'),\n ('which', 'DET'),\n ('which', 'DET'),\n ('which', 'DET'),\n ('which', 'DET'),\n ('which', 'DET'),\n ('which', 'DET'),\n ('which', 'DET'),\n ('which', 'DET'),\n ('which', 'DET'),\n ('which', 'DET'),\n ('which', 'DET'),\n ('which', 'DET'),\n ('which', 'DET'),\n ('which', 'DET'),\n ('which', 'DET'),\n ('which', 'DET'),\n ('which', 'DET'),\n ('which', 'DET'),\n ('which', 'DET'),\n ('which', 'DET'),\n ('which', 'DET'),\n ('which', 'DET'),\n ('which', 'DET'),\n ('which', 'DET'),\n ('which', 'DET'),\n ('which', 'DET'),\n ('which', 'DET'),\n ('which', 'DET'),\n ('which', 'DET'),\n ('which', 'DET'),\n ('which', 'DET'),\n ('which', 'DET'),\n ('which', 'DET'),\n ('which', 'DET'),\n ('which', 'DET'),\n ('which', 'DET'),\n ('which', 'DET'),\n ('which', 'DET'),\n ('which', 'DET'),\n ('which', 'DET'),\n ('which', 'DET'),\n ('which', 'DET'),\n ('which', 'DET'),\n ('which', 'DET'),\n ('which', 'DET'),\n ('which', 'DET'),\n ('which', 'DET'),\n ('which', 'DET'),\n ('which', 'DET'),\n ('which', 'DET'),\n ('which', 'DET'),\n ('which', 'DET'),\n ('which', 'DET'),\n ('which', 'DET'),\n ('which', 'DET'),\n ('which', 'DET'),\n ('which', 'DET'),\n ('which', 'DET'),\n ('which', 'DET'),\n ('which', 'DET'),\n ('which', 'DET'),\n ('which', 'DET'),\n ('which', 'DET'),\n ('which', 'DET'),\n ('which', 'DET'),\n ('which', 'DET'),\n ('which', 'DET'),\n ('which', 'DET'),\n ('which', 'DET'),\n ('which', 'DET'),\n ('which', 'DET'),\n ('which', 'DET'),\n ('which', 'DET'),\n ('which', 'DET'),\n ('which', 'DET'),\n ('which', 'DET'),\n ('which', 'DET'),\n ('which', 'DET'),\n ('which', 'DET'),\n ('which', 'DET'),\n ('which', 'DET'),\n ('which', 'DET'),\n ('which', 'DET'),\n ('which', 'DET'),\n ('which', 'DET'),\n ('which', 'DET'),\n ('which', 'DET'),\n ('which', 'DET'),\n ('which', 'DET'),\n ('which', 'DET'),\n ('which', 'DET'),\n ('which', 'DET'),\n ('which', 'DET'),\n ('which', 'DET'),\n ('which', 'DET'),\n ('which', 'DET'),\n ('which', 'DET'),\n ('which', 'DET'),\n ('which', 'DET'),\n ('which', 'DET'),\n ('which', 'DET'),\n ('which', 'DET'),\n ('which', 'DET'),\n ('which', 'DET'),\n ('which', 'DET'),\n ('which', 'DET'),\n ('which', 'DET'),\n ('which', 'DET'),\n ('which', 'DET'),\n ('which', 'DET'),\n ('which', 'DET'),\n ('which', 'DET'),\n ('which', 'DET'),\n ('which', 'DET'),\n ('which', 'DET'),\n ('which', 'DET'),\n ('which', 'DET'),\n ('which', 'DET'),\n ('which', 'DET'),\n ('which', 'DET'),\n ('which', 'DET'),\n ('which', 'DET'),\n ('which', 'DET'),\n ('which', 'DET'),\n ('which', 'DET'),\n ('which', 'DET'),\n ('which', 'DET'),\n ('which', 'DET')]"
     },
     "execution_count": 63,
     "metadata": {},
     "output_type": "execute_result"
    }
   ],
   "source": [
    "\n"
   ]
  },
  {
   "cell_type": "code",
   "execution_count": null,
   "metadata": {},
   "outputs": [],
   "source": []
  }
 ]
}